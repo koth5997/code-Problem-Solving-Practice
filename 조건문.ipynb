{
 "cells": [
  {
   "cell_type": "markdown",
   "metadata": {},
   "source": [
    "## 2884번"
   ]
  },
  {
   "cell_type": "code",
   "execution_count": 7,
   "metadata": {},
   "outputs": [
    {
     "name": "stdout",
     "output_type": "stream",
     "text": [
      "23 45\n"
     ]
    }
   ],
   "source": [
    "h,m=map(int, input().split())\n",
    "\n",
    "if(m >=45):\n",
    "    print(h,(m-45))\n",
    "else:\n",
    "    if(h == 0):\n",
    "        print(23, (m + 15))\n",
    "    else:\n",
    "        print((h-1), (m+15))"
   ]
  },
  {
   "cell_type": "markdown",
   "metadata": {},
   "source": [
    "## 2525번"
   ]
  },
  {
   "cell_type": "code",
   "execution_count": 5,
   "metadata": {},
   "outputs": [
    {
     "name": "stdout",
     "output_type": "stream",
     "text": [
      "14 50\n"
     ]
    }
   ],
   "source": [
    "A, B = map(int, input().split())\n",
    "C = int(input())\n",
    "\n",
    "if(B+C >=60):\n",
    "    A+=(B+C)//60\n",
    "    B= (B+C)%60\n",
    "else:\n",
    "    B+=C\n",
    "if A>= 24:\n",
    "    A= A-24\n",
    "print(A,B)"
   ]
  },
  {
   "cell_type": "markdown",
   "metadata": {},
   "source": [
    "## 2480번"
   ]
  },
  {
   "cell_type": "code",
   "execution_count": null,
   "metadata": {},
   "outputs": [],
   "source": []
  }
 ],
 "metadata": {
  "kernelspec": {
   "display_name": "IP2024",
   "language": "python",
   "name": "python3"
  },
  "language_info": {
   "codemirror_mode": {
    "name": "ipython",
    "version": 3
   },
   "file_extension": ".py",
   "mimetype": "text/x-python",
   "name": "python",
   "nbconvert_exporter": "python",
   "pygments_lexer": "ipython3",
   "version": "3.8.19"
  }
 },
 "nbformat": 4,
 "nbformat_minor": 2
}
